{
 "cells": [
  {
   "cell_type": "code",
   "execution_count": 6,
   "id": "08b4309e-e69a-430c-ae4b-c3bfbc55703b",
   "metadata": {},
   "outputs": [],
   "source": [
    "import os\n",
    "import pandas as pd\n",
    "from langchain_google_genai import GoogleGenerativeAI\n",
    "from langchain_experimental.agents import create_pandas_dataframe_agent\n",
    "import matplotlib.pyplot as plt\n",
    "import seaborn as sns\n",
    "from dotenv import load_dotenv\n",
    "%matplotlib inline"
   ]
  },
  {
   "cell_type": "code",
   "execution_count": 7,
   "id": "04bb0565-d4cf-4247-8659-c216ef99fb5b",
   "metadata": {},
   "outputs": [],
   "source": [
    "load_dotenv()\n",
    "google_api_key = os.getenv(\"API_KEY\")"
   ]
  },
  {
   "cell_type": "markdown",
   "id": "ce5521e7-bf79-4cca-864d-cc97e1f35854",
   "metadata": {},
   "source": [
    "## Load Dataset\n",
    "Dataset URL : https://www.kaggle.com/datasets/sanketnadargi/solar-dataset"
   ]
  },
  {
   "cell_type": "code",
   "execution_count": 15,
   "id": "a7150f7d-a60c-47f3-a53e-eb23b66d9390",
   "metadata": {},
   "outputs": [],
   "source": [
    "df = pd.read_csv(\"C:\\Downloads\\solar.csv\")"
   ]
  },
  {
   "cell_type": "code",
   "execution_count": 16,
   "id": "5c70c25f-3ec8-4a23-ac84-d2cf5b4256bf",
   "metadata": {},
   "outputs": [
    {
     "data": {
      "text/html": [
       "<div>\n",
       "<style scoped>\n",
       "    .dataframe tbody tr th:only-of-type {\n",
       "        vertical-align: middle;\n",
       "    }\n",
       "\n",
       "    .dataframe tbody tr th {\n",
       "        vertical-align: top;\n",
       "    }\n",
       "\n",
       "    .dataframe thead th {\n",
       "        text-align: right;\n",
       "    }\n",
       "</style>\n",
       "<table border=\"1\" class=\"dataframe\">\n",
       "  <thead>\n",
       "    <tr style=\"text-align: right;\">\n",
       "      <th></th>\n",
       "      <th>Date-Hour(NMT)</th>\n",
       "      <th>WindSpeed</th>\n",
       "      <th>Sunshine</th>\n",
       "      <th>AirPressure</th>\n",
       "      <th>Radiation</th>\n",
       "      <th>AirTemperature</th>\n",
       "      <th>RelativeAirHumidity</th>\n",
       "      <th>SystemProduction</th>\n",
       "    </tr>\n",
       "  </thead>\n",
       "  <tbody>\n",
       "    <tr>\n",
       "      <th>0</th>\n",
       "      <td>01.01.2017-00:00</td>\n",
       "      <td>0.6</td>\n",
       "      <td>0</td>\n",
       "      <td>1003.8</td>\n",
       "      <td>-7.4</td>\n",
       "      <td>0.1</td>\n",
       "      <td>97</td>\n",
       "      <td>0.0</td>\n",
       "    </tr>\n",
       "    <tr>\n",
       "      <th>1</th>\n",
       "      <td>01.01.2017-01:00</td>\n",
       "      <td>1.7</td>\n",
       "      <td>0</td>\n",
       "      <td>1003.5</td>\n",
       "      <td>-7.4</td>\n",
       "      <td>-0.2</td>\n",
       "      <td>98</td>\n",
       "      <td>0.0</td>\n",
       "    </tr>\n",
       "    <tr>\n",
       "      <th>2</th>\n",
       "      <td>01.01.2017-02:00</td>\n",
       "      <td>0.6</td>\n",
       "      <td>0</td>\n",
       "      <td>1003.4</td>\n",
       "      <td>-6.7</td>\n",
       "      <td>-1.2</td>\n",
       "      <td>99</td>\n",
       "      <td>0.0</td>\n",
       "    </tr>\n",
       "    <tr>\n",
       "      <th>3</th>\n",
       "      <td>01.01.2017-03:00</td>\n",
       "      <td>2.4</td>\n",
       "      <td>0</td>\n",
       "      <td>1003.3</td>\n",
       "      <td>-7.2</td>\n",
       "      <td>-1.3</td>\n",
       "      <td>99</td>\n",
       "      <td>0.0</td>\n",
       "    </tr>\n",
       "    <tr>\n",
       "      <th>4</th>\n",
       "      <td>01.01.2017-04:00</td>\n",
       "      <td>4.0</td>\n",
       "      <td>0</td>\n",
       "      <td>1003.1</td>\n",
       "      <td>-6.3</td>\n",
       "      <td>3.6</td>\n",
       "      <td>67</td>\n",
       "      <td>0.0</td>\n",
       "    </tr>\n",
       "  </tbody>\n",
       "</table>\n",
       "</div>"
      ],
      "text/plain": [
       "     Date-Hour(NMT)  WindSpeed  Sunshine  AirPressure  Radiation  \\\n",
       "0  01.01.2017-00:00        0.6         0       1003.8       -7.4   \n",
       "1  01.01.2017-01:00        1.7         0       1003.5       -7.4   \n",
       "2  01.01.2017-02:00        0.6         0       1003.4       -6.7   \n",
       "3  01.01.2017-03:00        2.4         0       1003.3       -7.2   \n",
       "4  01.01.2017-04:00        4.0         0       1003.1       -6.3   \n",
       "\n",
       "   AirTemperature  RelativeAirHumidity  SystemProduction  \n",
       "0             0.1                   97               0.0  \n",
       "1            -0.2                   98               0.0  \n",
       "2            -1.2                   99               0.0  \n",
       "3            -1.3                   99               0.0  \n",
       "4             3.6                   67               0.0  "
      ]
     },
     "execution_count": 16,
     "metadata": {},
     "output_type": "execute_result"
    }
   ],
   "source": [
    "df.head()"
   ]
  },
  {
   "cell_type": "code",
   "execution_count": 17,
   "id": "3c091bcd-29e6-4d44-9e41-f65f2003f793",
   "metadata": {},
   "outputs": [],
   "source": [
    "agent = create_pandas_dataframe_agent(llm = GoogleGenerativeAI(google_api_key= google_api_key,model=\"gemini-pro\",temperature=0),\n",
    "                                     df=df, verbose= True)"
   ]
  },
  {
   "cell_type": "code",
   "execution_count": 20,
   "id": "f2df3eba-fb6b-4415-af46-81a1de6744c5",
   "metadata": {},
   "outputs": [
    {
     "name": "stdout",
     "output_type": "stream",
     "text": [
      "\n",
      "\n",
      "\u001b[1m> Entering new AgentExecutor chain...\u001b[0m\n",
      "\u001b[32;1m\u001b[1;3mThought: The shape is the number of rows and columns in the dataframe. I can use the `shape` attribute to get this.\n",
      "Action: python_repl_ast\n",
      "Action Input: df.shape\u001b[0m\u001b[36;1m\u001b[1;3m(8760, 8)\u001b[0m\u001b[32;1m\u001b[1;3mAction: python_repl_ast\n",
      "Action Input: df.shape\u001b[0m\u001b[36;1m\u001b[1;3m(8760, 8)\u001b[0m\u001b[32;1m\u001b[1;3mFinal Answer: (8760, 8)\u001b[0m\n",
      "\n",
      "\u001b[1m> Finished chain.\u001b[0m\n"
     ]
    },
    {
     "data": {
      "text/plain": [
       "{'input': 'What is the shape of dataset?', 'output': '(8760, 8)'}"
      ]
     },
     "execution_count": 20,
     "metadata": {},
     "output_type": "execute_result"
    }
   ],
   "source": [
    "result = agent(\"What is the shape of dataset?\")\n",
    "result"
   ]
  },
  {
   "cell_type": "code",
   "execution_count": 21,
   "id": "0e7c1ded-1ad9-434d-a04c-48b443de1040",
   "metadata": {},
   "outputs": [
    {
     "data": {
      "text/plain": [
       "dict_keys(['input', 'output'])"
      ]
     },
     "execution_count": 21,
     "metadata": {},
     "output_type": "execute_result"
    }
   ],
   "source": [
    "result.keys()"
   ]
  },
  {
   "cell_type": "code",
   "execution_count": 24,
   "id": "92a8933a-045e-4502-8623-f943322a8495",
   "metadata": {},
   "outputs": [
    {
     "data": {
      "text/plain": [
       "'(8760, 8)'"
      ]
     },
     "execution_count": 24,
     "metadata": {},
     "output_type": "execute_result"
    }
   ],
   "source": [
    "output = result['output']\n",
    "output"
   ]
  },
  {
   "cell_type": "code",
   "execution_count": 25,
   "id": "13419936-9f25-4ee5-97c0-c34fb8761455",
   "metadata": {},
   "outputs": [
    {
     "data": {
      "text/plain": [
       "(8760, 8)"
      ]
     },
     "execution_count": 25,
     "metadata": {},
     "output_type": "execute_result"
    }
   ],
   "source": [
    "# validation\n",
    "df.shape"
   ]
  },
  {
   "cell_type": "code",
   "execution_count": 26,
   "id": "012f9755-8644-41fd-b182-3826064ba12c",
   "metadata": {},
   "outputs": [
    {
     "name": "stdout",
     "output_type": "stream",
     "text": [
      "\n",
      "\n",
      "\u001b[1m> Entering new AgentExecutor chain...\u001b[0m\n",
      "\u001b[32;1m\u001b[1;3mThought: I should use the head() method to show the first five rows of the dataframe.\n",
      "Action: python_repl_ast\n",
      "Action Input: df.head()\u001b[0m\u001b[36;1m\u001b[1;3m     Date-Hour(NMT)  WindSpeed  Sunshine  AirPressure  Radiation  \\\n",
      "0  01.01.2017-00:00        0.6         0       1003.8       -7.4   \n",
      "1  01.01.2017-01:00        1.7         0       1003.5       -7.4   \n",
      "2  01.01.2017-02:00        0.6         0       1003.4       -6.7   \n",
      "3  01.01.2017-03:00        2.4         0       1003.3       -7.2   \n",
      "4  01.01.2017-04:00        4.0         0       1003.1       -6.3   \n",
      "\n",
      "   AirTemperature  RelativeAirHumidity  SystemProduction  \n",
      "0             0.1                   97               0.0  \n",
      "1            -0.2                   98               0.0  \n",
      "2            -1.2                   99               0.0  \n",
      "3            -1.3                   99               0.0  \n",
      "4             3.6                   67               0.0  \u001b[0m\u001b[32;1m\u001b[1;3mFinal Answer: The first five rows of the dataframe are shown above.\u001b[0m\n",
      "\n",
      "\u001b[1m> Finished chain.\u001b[0m\n"
     ]
    },
    {
     "ename": "TypeError",
     "evalue": "crosstab() missing 1 required positional argument: 'columns'",
     "output_type": "error",
     "traceback": [
      "\u001b[1;31m---------------------------------------------------------------------------\u001b[0m",
      "\u001b[1;31mTypeError\u001b[0m                                 Traceback (most recent call last)",
      "Cell \u001b[1;32mIn[26], line 2\u001b[0m\n\u001b[0;32m      1\u001b[0m result \u001b[38;5;241m=\u001b[39m agent(\u001b[38;5;124m\"\u001b[39m\u001b[38;5;124mShow me five rows\u001b[39m\u001b[38;5;124m\"\u001b[39m)\n\u001b[1;32m----> 2\u001b[0m \u001b[43mpd\u001b[49m\u001b[38;5;241;43m.\u001b[39;49m\u001b[43mcrosstab\u001b[49m\u001b[43m(\u001b[49m\u001b[43mresult\u001b[49m\u001b[43m[\u001b[49m\u001b[38;5;124;43m\"\u001b[39;49m\u001b[38;5;124;43moutput\u001b[39;49m\u001b[38;5;124;43m\"\u001b[39;49m\u001b[43m]\u001b[49m\u001b[43m)\u001b[49m\n",
      "\u001b[1;31mTypeError\u001b[0m: crosstab() missing 1 required positional argument: 'columns'"
     ]
    }
   ],
   "source": [
    "result = agent(\"Show me five rows\")\n",
    "pd.crosstab(result[\"output\"])"
   ]
  },
  {
   "cell_type": "code",
   "execution_count": 27,
   "id": "4a3f5711-6fdb-49b2-8897-2514eb21e875",
   "metadata": {},
   "outputs": [
    {
     "ename": "AttributeError",
     "evalue": "'DataFrame' object has no attribute 'famhist'",
     "output_type": "error",
     "traceback": [
      "\u001b[1;31m---------------------------------------------------------------------------\u001b[0m",
      "\u001b[1;31mAttributeError\u001b[0m                            Traceback (most recent call last)",
      "\u001b[1;32m~\\AppData\\Local\\Temp\\ipykernel_16768\\2512127906.py\u001b[0m in \u001b[0;36m?\u001b[1;34m()\u001b[0m\n\u001b[1;32m----> 1\u001b[1;33m \u001b[0mdf\u001b[0m\u001b[1;33m.\u001b[0m\u001b[0mfamhist\u001b[0m\u001b[1;33m\u001b[0m\u001b[1;33m\u001b[0m\u001b[0m\n\u001b[0m",
      "\u001b[1;32m~\\miniconda3\\envs\\langchain\\Lib\\site-packages\\pandas\\core\\generic.py\u001b[0m in \u001b[0;36m?\u001b[1;34m(self, name)\u001b[0m\n\u001b[0;32m   6289\u001b[0m             \u001b[1;32mand\u001b[0m \u001b[0mname\u001b[0m \u001b[1;32mnot\u001b[0m \u001b[1;32min\u001b[0m \u001b[0mself\u001b[0m\u001b[1;33m.\u001b[0m\u001b[0m_accessors\u001b[0m\u001b[1;33m\u001b[0m\u001b[1;33m\u001b[0m\u001b[0m\n\u001b[0;32m   6290\u001b[0m             \u001b[1;32mand\u001b[0m \u001b[0mself\u001b[0m\u001b[1;33m.\u001b[0m\u001b[0m_info_axis\u001b[0m\u001b[1;33m.\u001b[0m\u001b[0m_can_hold_identifiers_and_holds_name\u001b[0m\u001b[1;33m(\u001b[0m\u001b[0mname\u001b[0m\u001b[1;33m)\u001b[0m\u001b[1;33m\u001b[0m\u001b[1;33m\u001b[0m\u001b[0m\n\u001b[0;32m   6291\u001b[0m         ):\n\u001b[0;32m   6292\u001b[0m             \u001b[1;32mreturn\u001b[0m \u001b[0mself\u001b[0m\u001b[1;33m[\u001b[0m\u001b[0mname\u001b[0m\u001b[1;33m]\u001b[0m\u001b[1;33m\u001b[0m\u001b[1;33m\u001b[0m\u001b[0m\n\u001b[1;32m-> 6293\u001b[1;33m         \u001b[1;32mreturn\u001b[0m \u001b[0mobject\u001b[0m\u001b[1;33m.\u001b[0m\u001b[0m__getattribute__\u001b[0m\u001b[1;33m(\u001b[0m\u001b[0mself\u001b[0m\u001b[1;33m,\u001b[0m \u001b[0mname\u001b[0m\u001b[1;33m)\u001b[0m\u001b[1;33m\u001b[0m\u001b[1;33m\u001b[0m\u001b[0m\n\u001b[0m",
      "\u001b[1;31mAttributeError\u001b[0m: 'DataFrame' object has no attribute 'famhist'"
     ]
    }
   ],
   "source": [
    "df.famhist"
   ]
  },
  {
   "cell_type": "code",
   "execution_count": null,
   "id": "fe7d1835-17a8-4ed6-81d6-68011f3c57a9",
   "metadata": {},
   "outputs": [],
   "source": []
  }
 ],
 "metadata": {
  "kernelspec": {
   "display_name": "Python 3 (ipykernel)",
   "language": "python",
   "name": "python3"
  },
  "language_info": {
   "codemirror_mode": {
    "name": "ipython",
    "version": 3
   },
   "file_extension": ".py",
   "mimetype": "text/x-python",
   "name": "python",
   "nbconvert_exporter": "python",
   "pygments_lexer": "ipython3",
   "version": "3.11.0"
  }
 },
 "nbformat": 4,
 "nbformat_minor": 5
}
