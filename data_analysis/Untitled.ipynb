{
 "cells": [
  {
   "cell_type": "markdown",
   "id": "a46435a6-f5b2-4cf4-906c-af5721d71051",
   "metadata": {},
   "source": [
    "## EDA using LLM and Langchain\n",
    "\n",
    "### Pre-requisite Steps:\n",
    "1. Sign up to Google AI studio and get the API key\n",
    "    - Go to https://aistudio.google.com/app/apikey and sign in with an google account.\n",
    "2. Install **Langchain** and **Google Generative AI** libraries\n",
    "   - `pip install langchain-experimental`\n",
    "   - `pip install langchain-google-genai`\n",
    "\n",
    "### Dataset:\n",
    "The dataset provided the information on over 4000 patients and included 15 attributes, each representing a potential risk factor for CHD (). These attributes included demographicm behaviour and medical risk factor.\n",
    "\n",
    "https://www.kaggle.com/datasets/mamta1999/cardiovascular-risk-data\n",
    "\n",
    "## Import Required Libraries"
   ]
  },
  {
   "cell_type": "code",
   "execution_count": 2,
   "id": "dc3fa931-fed1-4834-9e28-948724217f3c",
   "metadata": {},
   "outputs": [],
   "source": [
    "import os \n",
    "import pandas as pd\n",
    "import matplotlib.pyplot as plt\n",
    "import seaborn as sns\n",
    "from dotenv import load_dotenv\n",
    "from langchain_experimental.agents import create_pandas_dataframe_agent\n",
    "from langchain_google_genai import GoogleGenerativeAI"
   ]
  },
  {
   "cell_type": "code",
   "execution_count": 5,
   "id": "e068f132-f9d7-4c4a-9623-29ccc899e0ea",
   "metadata": {},
   "outputs": [],
   "source": [
    "load_dotenv()\n",
    "google_api_key = os.getenv(\"GOOGLE_API_KEY\")"
   ]
  },
  {
   "cell_type": "markdown",
   "id": "4c3b07ba-0cc7-4a53-85cc-046c850fe9be",
   "metadata": {},
   "source": [
    "## Read the Dataset"
   ]
  },
  {
   "cell_type": "code",
   "execution_count": 7,
   "id": "e481e51a-cf25-40c3-a8d4-9b18db521f80",
   "metadata": {},
   "outputs": [
    {
     "data": {
      "text/html": [
       "<div>\n",
       "<style scoped>\n",
       "    .dataframe tbody tr th:only-of-type {\n",
       "        vertical-align: middle;\n",
       "    }\n",
       "\n",
       "    .dataframe tbody tr th {\n",
       "        vertical-align: top;\n",
       "    }\n",
       "\n",
       "    .dataframe thead th {\n",
       "        text-align: right;\n",
       "    }\n",
       "</style>\n",
       "<table border=\"1\" class=\"dataframe\">\n",
       "  <thead>\n",
       "    <tr style=\"text-align: right;\">\n",
       "      <th></th>\n",
       "      <th>id</th>\n",
       "      <th>age</th>\n",
       "      <th>education</th>\n",
       "      <th>sex</th>\n",
       "      <th>is_smoking</th>\n",
       "      <th>cigsPerDay</th>\n",
       "      <th>BPMeds</th>\n",
       "      <th>prevalentStroke</th>\n",
       "      <th>prevalentHyp</th>\n",
       "      <th>diabetes</th>\n",
       "      <th>totChol</th>\n",
       "      <th>sysBP</th>\n",
       "      <th>diaBP</th>\n",
       "      <th>BMI</th>\n",
       "      <th>heartRate</th>\n",
       "      <th>glucose</th>\n",
       "      <th>TenYearCHD</th>\n",
       "    </tr>\n",
       "  </thead>\n",
       "  <tbody>\n",
       "    <tr>\n",
       "      <th>0</th>\n",
       "      <td>0</td>\n",
       "      <td>64</td>\n",
       "      <td>2.0</td>\n",
       "      <td>F</td>\n",
       "      <td>YES</td>\n",
       "      <td>3.0</td>\n",
       "      <td>0.0</td>\n",
       "      <td>0</td>\n",
       "      <td>0</td>\n",
       "      <td>0</td>\n",
       "      <td>221.0</td>\n",
       "      <td>148.0</td>\n",
       "      <td>85.0</td>\n",
       "      <td>NaN</td>\n",
       "      <td>90.0</td>\n",
       "      <td>80.0</td>\n",
       "      <td>1</td>\n",
       "    </tr>\n",
       "    <tr>\n",
       "      <th>1</th>\n",
       "      <td>1</td>\n",
       "      <td>36</td>\n",
       "      <td>4.0</td>\n",
       "      <td>M</td>\n",
       "      <td>NO</td>\n",
       "      <td>0.0</td>\n",
       "      <td>0.0</td>\n",
       "      <td>0</td>\n",
       "      <td>1</td>\n",
       "      <td>0</td>\n",
       "      <td>212.0</td>\n",
       "      <td>168.0</td>\n",
       "      <td>98.0</td>\n",
       "      <td>29.77</td>\n",
       "      <td>72.0</td>\n",
       "      <td>75.0</td>\n",
       "      <td>0</td>\n",
       "    </tr>\n",
       "    <tr>\n",
       "      <th>2</th>\n",
       "      <td>2</td>\n",
       "      <td>46</td>\n",
       "      <td>1.0</td>\n",
       "      <td>F</td>\n",
       "      <td>YES</td>\n",
       "      <td>10.0</td>\n",
       "      <td>0.0</td>\n",
       "      <td>0</td>\n",
       "      <td>0</td>\n",
       "      <td>0</td>\n",
       "      <td>250.0</td>\n",
       "      <td>116.0</td>\n",
       "      <td>71.0</td>\n",
       "      <td>20.35</td>\n",
       "      <td>88.0</td>\n",
       "      <td>94.0</td>\n",
       "      <td>0</td>\n",
       "    </tr>\n",
       "    <tr>\n",
       "      <th>3</th>\n",
       "      <td>3</td>\n",
       "      <td>50</td>\n",
       "      <td>1.0</td>\n",
       "      <td>M</td>\n",
       "      <td>YES</td>\n",
       "      <td>20.0</td>\n",
       "      <td>0.0</td>\n",
       "      <td>0</td>\n",
       "      <td>1</td>\n",
       "      <td>0</td>\n",
       "      <td>233.0</td>\n",
       "      <td>158.0</td>\n",
       "      <td>88.0</td>\n",
       "      <td>28.26</td>\n",
       "      <td>68.0</td>\n",
       "      <td>94.0</td>\n",
       "      <td>1</td>\n",
       "    </tr>\n",
       "    <tr>\n",
       "      <th>4</th>\n",
       "      <td>4</td>\n",
       "      <td>64</td>\n",
       "      <td>1.0</td>\n",
       "      <td>F</td>\n",
       "      <td>YES</td>\n",
       "      <td>30.0</td>\n",
       "      <td>0.0</td>\n",
       "      <td>0</td>\n",
       "      <td>0</td>\n",
       "      <td>0</td>\n",
       "      <td>241.0</td>\n",
       "      <td>136.5</td>\n",
       "      <td>85.0</td>\n",
       "      <td>26.42</td>\n",
       "      <td>70.0</td>\n",
       "      <td>77.0</td>\n",
       "      <td>0</td>\n",
       "    </tr>\n",
       "  </tbody>\n",
       "</table>\n",
       "</div>"
      ],
      "text/plain": [
       "   id  age  education sex is_smoking  cigsPerDay  BPMeds  prevalentStroke  \\\n",
       "0   0   64        2.0   F        YES         3.0     0.0                0   \n",
       "1   1   36        4.0   M         NO         0.0     0.0                0   \n",
       "2   2   46        1.0   F        YES        10.0     0.0                0   \n",
       "3   3   50        1.0   M        YES        20.0     0.0                0   \n",
       "4   4   64        1.0   F        YES        30.0     0.0                0   \n",
       "\n",
       "   prevalentHyp  diabetes  totChol  sysBP  diaBP    BMI  heartRate  glucose  \\\n",
       "0             0         0    221.0  148.0   85.0    NaN       90.0     80.0   \n",
       "1             1         0    212.0  168.0   98.0  29.77       72.0     75.0   \n",
       "2             0         0    250.0  116.0   71.0  20.35       88.0     94.0   \n",
       "3             1         0    233.0  158.0   88.0  28.26       68.0     94.0   \n",
       "4             0         0    241.0  136.5   85.0  26.42       70.0     77.0   \n",
       "\n",
       "   TenYearCHD  \n",
       "0           1  \n",
       "1           0  \n",
       "2           0  \n",
       "3           1  \n",
       "4           0  "
      ]
     },
     "execution_count": 7,
     "metadata": {},
     "output_type": "execute_result"
    }
   ],
   "source": [
    "df  = pd.read_csv(\"data_cardiovascular_risk.csv\")\n",
    "df.head()"
   ]
  },
  {
   "cell_type": "markdown",
   "id": "5432ccc3-b72e-4616-bd64-eec98d1fd6f2",
   "metadata": {},
   "source": [
    "## Configure the Langchain Agent"
   ]
  },
  {
   "cell_type": "code",
   "execution_count": 9,
   "id": "fa74ce26-db42-4b57-ac95-5ed510d11c73",
   "metadata": {},
   "outputs": [],
   "source": [
    "agent = create_pandas_dataframe_agent(llm= GoogleGenerativeAI(google_api_key= google_api_key,\n",
    "                                                             model=\"gemini-pro\",\n",
    "                                                             temperature=0),\n",
    "                                     df= df, verbose= True)"
   ]
  },
  {
   "cell_type": "markdown",
   "id": "50d8da68-af67-49cc-a5e6-5b752d0a7785",
   "metadata": {},
   "source": [
    "# Getting Metadata\n",
    "####  Shape of dataset"
   ]
  },
  {
   "cell_type": "code",
   "execution_count": 10,
   "id": "f5f3cb18-6c7f-432f-bf02-aa39c2616f32",
   "metadata": {},
   "outputs": [
    {
     "name": "stdout",
     "output_type": "stream",
     "text": [
      "\n",
      "\n",
      "\u001b[1m> Entering new AgentExecutor chain...\u001b[0m\n",
      "\u001b[32;1m\u001b[1;3mThought: I can just use the shape attribute\n",
      "Action: python_repl_ast\n",
      "Action Input: df.shape\u001b[0m\u001b[36;1m\u001b[1;3m(3390, 17)\u001b[0m\u001b[32;1m\u001b[1;3mFinal Answer: (3390, 17)\u001b[0m\n",
      "\n",
      "\u001b[1m> Finished chain.\u001b[0m\n"
     ]
    }
   ],
   "source": [
    "result = agent(\"what is the shape of dataset\")"
   ]
  },
  {
   "cell_type": "code",
   "execution_count": 11,
   "id": "1d6c5e24-f795-4029-af6c-49ce145fa836",
   "metadata": {},
   "outputs": [
    {
     "data": {
      "text/plain": [
       "{'input': 'what is the shape of dataset', 'output': '(3390, 17)'}"
      ]
     },
     "execution_count": 11,
     "metadata": {},
     "output_type": "execute_result"
    }
   ],
   "source": [
    "result"
   ]
  },
  {
   "cell_type": "code",
   "execution_count": 12,
   "id": "66948294-5ac4-439d-82db-131792a73b37",
   "metadata": {},
   "outputs": [
    {
     "data": {
      "text/plain": [
       "'(3390, 17)'"
      ]
     },
     "execution_count": 12,
     "metadata": {},
     "output_type": "execute_result"
    }
   ],
   "source": [
    "result[\"output\"]"
   ]
  },
  {
   "cell_type": "markdown",
   "id": "37f69b27-b2a4-4b74-832b-c63921dbd999",
   "metadata": {},
   "source": [
    "###  Validate with our dataframe"
   ]
  },
  {
   "cell_type": "code",
   "execution_count": 14,
   "id": "44ab8c71-f227-44fa-9ef3-3ccd5e23160a",
   "metadata": {},
   "outputs": [
    {
     "data": {
      "text/plain": [
       "(3390, 17)"
      ]
     },
     "execution_count": 14,
     "metadata": {},
     "output_type": "execute_result"
    }
   ],
   "source": [
    "df.shape"
   ]
  },
  {
   "cell_type": "markdown",
   "id": "062b284c-6407-42c0-b97f-170e219dc45f",
   "metadata": {},
   "source": [
    "### Get few data from dataset"
   ]
  },
  {
   "cell_type": "code",
   "execution_count": 15,
   "id": "0cae80ac-613d-48db-bd3f-472b8bf89c04",
   "metadata": {},
   "outputs": [
    {
     "name": "stdout",
     "output_type": "stream",
     "text": [
      "\n",
      "\n",
      "\u001b[1m> Entering new AgentExecutor chain...\u001b[0m\n",
      "\u001b[32;1m\u001b[1;3mThought: I should just use `head()` method on dataframe\n",
      "Action: python_repl_ast\n",
      "Action Input: df.head()\u001b[0m\u001b[36;1m\u001b[1;3m   id  age  education sex is_smoking  cigsPerDay  BPMeds  prevalentStroke  \\\n",
      "0   0   64        2.0   F        YES         3.0     0.0                0   \n",
      "1   1   36        4.0   M         NO         0.0     0.0                0   \n",
      "2   2   46        1.0   F        YES        10.0     0.0                0   \n",
      "3   3   50        1.0   M        YES        20.0     0.0                0   \n",
      "4   4   64        1.0   F        YES        30.0     0.0                0   \n",
      "\n",
      "   prevalentHyp  diabetes  totChol  sysBP  diaBP    BMI  heartRate  glucose  \\\n",
      "0             0         0    221.0  148.0   85.0    NaN       90.0     80.0   \n",
      "1             1         0    212.0  168.0   98.0  29.77       72.0     75.0   \n",
      "2             0         0    250.0  116.0   71.0  20.35       88.0     94.0   \n",
      "3             1         0    233.0  158.0   88.0  28.26       68.0     94.0   \n",
      "4             0         0    241.0  136.5   85.0  26.42       70.0     77.0   \n",
      "\n",
      "   TenYearCHD  \n",
      "0           1  \n",
      "1           0  \n",
      "2           0  \n",
      "3           1  \n",
      "4           0  \u001b[0m"
     ]
    },
    {
     "name": "stderr",
     "output_type": "stream",
     "text": [
      "Retrying langchain_google_genai.llms._completion_with_retry.<locals>._completion_with_retry in 4.0 seconds as it raised InternalServerError: 500 An internal error has occurred. Please retry or report in https://developers.generativeai.google/guide/troubleshooting.\n"
     ]
    },
    {
     "name": "stdout",
     "output_type": "stream",
     "text": [
      "\u001b[32;1m\u001b[1;3mFinal Answer: ```python\n",
      "df.head()\n",
      "```\u001b[0m\n",
      "\n",
      "\u001b[1m> Finished chain.\u001b[0m\n"
     ]
    }
   ],
   "source": [
    "result = agent(\"give 5 sample record\")"
   ]
  },
  {
   "cell_type": "markdown",
   "id": "87119e68-ff41-4e86-8684-c1cee964dc6f",
   "metadata": {},
   "source": [
    "### Find missing Values in dataset"
   ]
  },
  {
   "cell_type": "code",
   "execution_count": 21,
   "id": "4cdebc78-42fe-43e4-ac3f-c9ec2688a442",
   "metadata": {},
   "outputs": [
    {
     "name": "stdout",
     "output_type": "stream",
     "text": [
      "\n",
      "\n",
      "\u001b[1m> Entering new AgentExecutor chain...\u001b[0m\n",
      "\u001b[32;1m\u001b[1;3mThought: I should just use .isnull() and then .any() to see the missing values\n",
      "Action: python_repl_ast\n",
      "Action Input: df.isnull().any()\u001b[0m\u001b[36;1m\u001b[1;3mid                 False\n",
      "age                False\n",
      "education           True\n",
      "sex                False\n",
      "is_smoking         False\n",
      "cigsPerDay          True\n",
      "BPMeds              True\n",
      "prevalentStroke    False\n",
      "prevalentHyp       False\n",
      "diabetes           False\n",
      "totChol             True\n",
      "sysBP              False\n",
      "diaBP              False\n",
      "BMI                 True\n",
      "heartRate           True\n",
      "glucose             True\n",
      "TenYearCHD         False\n",
      "dtype: bool\u001b[0m\u001b[32;1m\u001b[1;3mFinal Answer: The missing values in the dataset are: education, cigsPerDay, BPMeds, totChol, BMI, heartRate, glucose\u001b[0m\n",
      "\n",
      "\u001b[1m> Finished chain.\u001b[0m\n"
     ]
    }
   ],
   "source": [
    "result = agent(\"give me the all missing values in the dataset\")"
   ]
  },
  {
   "cell_type": "code",
   "execution_count": 22,
   "id": "4d5a618d-f5f5-4095-9161-3421bd3a0c2a",
   "metadata": {},
   "outputs": [
    {
     "data": {
      "text/plain": [
       "{'input': 'give me the all missing values in the dataset',\n",
       " 'output': 'The missing values in the dataset are: education, cigsPerDay, BPMeds, totChol, BMI, heartRate, glucose'}"
      ]
     },
     "execution_count": 22,
     "metadata": {},
     "output_type": "execute_result"
    }
   ],
   "source": [
    "result"
   ]
  },
  {
   "cell_type": "markdown",
   "id": "fd278b42-2ecd-4a8a-909f-32f1e3d21c64",
   "metadata": {},
   "source": [
    "## Probability"
   ]
  },
  {
   "cell_type": "markdown",
   "id": "a141a625-58b4-4ccd-bb34-08306bcec7c9",
   "metadata": {},
   "source": [
    "### find frequency of variables"
   ]
  },
  {
   "cell_type": "code",
   "execution_count": 23,
   "id": "34af64e2-a778-403b-b4e0-a17f7cc1f08b",
   "metadata": {},
   "outputs": [
    {
     "name": "stdout",
     "output_type": "stream",
     "text": [
      "\n",
      "\n",
      "\u001b[1m> Entering new AgentExecutor chain...\u001b[0m\n",
      "\u001b[32;1m\u001b[1;3mThought: we can use unique() to identify the unique elements\n",
      "Action: python_repl_ast\n",
      "Action Input: df['education'].unique()\u001b[0m\u001b[36;1m\u001b[1;3m[ 2.  4.  1.  3. nan]\u001b[0m\u001b[32;1m\u001b[1;3mFinal Answer: [ 2.  4.  1.  3. nan]\u001b[0m\n",
      "\n",
      "\u001b[1m> Finished chain.\u001b[0m\n"
     ]
    }
   ],
   "source": [
    "result = agent(\"what are the unique value in the education?\")"
   ]
  },
  {
   "cell_type": "code",
   "execution_count": 24,
   "id": "fc6bcb69-69f3-412d-9825-dc9e57b68001",
   "metadata": {},
   "outputs": [
    {
     "data": {
      "text/plain": [
       "'[ 2.  4.  1.  3. nan]'"
      ]
     },
     "execution_count": 24,
     "metadata": {},
     "output_type": "execute_result"
    }
   ],
   "source": [
    "result[\"output\"]"
   ]
  },
  {
   "cell_type": "code",
   "execution_count": 29,
   "id": "cec6533b-cdf9-49cc-a750-cb2f938236c1",
   "metadata": {},
   "outputs": [
    {
     "data": {
      "text/plain": [
       "array([ 2.,  4.,  1.,  3., nan])"
      ]
     },
     "execution_count": 29,
     "metadata": {},
     "output_type": "execute_result"
    }
   ],
   "source": [
    "df.education.unique()"
   ]
  },
  {
   "cell_type": "code",
   "execution_count": 37,
   "id": "d44bb5be-7079-4b2c-8de2-0c06005b77d4",
   "metadata": {},
   "outputs": [],
   "source": [
    "prompt = \"\"\" Answer the question base on the following description.\n",
    "in chd column 1 indicate person is suffering and 0 indicates the person is not suffering from chd.\n",
    "than how many male are suffering ?\n",
    "\"\"\""
   ]
  },
  {
   "cell_type": "code",
   "execution_count": 38,
   "id": "20e67316-8c48-4f8d-ab33-ba4e9e270b14",
   "metadata": {},
   "outputs": [
    {
     "name": "stdout",
     "output_type": "stream",
     "text": [
      "\n",
      "\n",
      "\u001b[1m> Entering new AgentExecutor chain...\u001b[0m\n",
      "\u001b[32;1m\u001b[1;3mThought: The question concerns the number of male persons suffering from chd.\n",
      "Action: python_repl_ast\n",
      "Action Input: df[(df['sex']=='M')&(df['TenYearCHD']==1)].shape[0]\u001b[0m\u001b[36;1m\u001b[1;3m272\u001b[0m\u001b[32;1m\u001b[1;3mFinal Answer: 272\u001b[0m\n",
      "\n",
      "\u001b[1m> Finished chain.\u001b[0m\n"
     ]
    }
   ],
   "source": [
    "result = agent(prompt)"
   ]
  },
  {
   "cell_type": "code",
   "execution_count": 43,
   "id": "06d17b1b-190e-4df6-bd40-3562e870cb4a",
   "metadata": {},
   "outputs": [
    {
     "data": {
      "text/html": [
       "<div>\n",
       "<style scoped>\n",
       "    .dataframe tbody tr th:only-of-type {\n",
       "        vertical-align: middle;\n",
       "    }\n",
       "\n",
       "    .dataframe tbody tr th {\n",
       "        vertical-align: top;\n",
       "    }\n",
       "\n",
       "    .dataframe thead th {\n",
       "        text-align: right;\n",
       "    }\n",
       "</style>\n",
       "<table border=\"1\" class=\"dataframe\">\n",
       "  <thead>\n",
       "    <tr style=\"text-align: right;\">\n",
       "      <th>sex</th>\n",
       "      <th>F</th>\n",
       "      <th>M</th>\n",
       "    </tr>\n",
       "    <tr>\n",
       "      <th>TenYearCHD</th>\n",
       "      <th></th>\n",
       "      <th></th>\n",
       "    </tr>\n",
       "  </thead>\n",
       "  <tbody>\n",
       "    <tr>\n",
       "      <th>0</th>\n",
       "      <td>1684</td>\n",
       "      <td>1195</td>\n",
       "    </tr>\n",
       "    <tr>\n",
       "      <th>1</th>\n",
       "      <td>239</td>\n",
       "      <td>272</td>\n",
       "    </tr>\n",
       "  </tbody>\n",
       "</table>\n",
       "</div>"
      ],
      "text/plain": [
       "sex            F     M\n",
       "TenYearCHD            \n",
       "0           1684  1195\n",
       "1            239   272"
      ]
     },
     "execution_count": 43,
     "metadata": {},
     "output_type": "execute_result"
    }
   ],
   "source": [
    "pd.crosstab(df.TenYearCHD, df.sex)"
   ]
  },
  {
   "cell_type": "code",
   "execution_count": 44,
   "id": "76dda447-fee5-411f-89ff-816e9cb930f3",
   "metadata": {},
   "outputs": [],
   "source": [
    "prompt = \"\"\" What is the probablity that a female will suffer from chd?\n",
    "\"\"\""
   ]
  },
  {
   "cell_type": "code",
   "execution_count": 46,
   "id": "d21fa2a7-0955-4d9c-b145-95bb801679c4",
   "metadata": {},
   "outputs": [
    {
     "name": "stdout",
     "output_type": "stream",
     "text": [
      "\n",
      "\n",
      "\u001b[1m> Entering new AgentExecutor chain...\u001b[0m\n",
      "\u001b[32;1m\u001b[1;3mThought: The TenYearCHD column is a boolean value, so summing it up for a particular group will give me the number or females that will suffer from chd\n",
      "Action: python_repl_ast\n",
      "Action Input: sum(df[df['sex'] == 'F']['TenYearCHD'])\u001b[0m\u001b[36;1m\u001b[1;3m239\u001b[0m\u001b[32;1m\u001b[1;3m239 is the number of females that will suffer from chd. I need to find the total of females in the dataframe\n",
      "Action: python_repl_ast\n",
      "Action Input: len(df[df['sex'] == 'F'])\u001b[0m\u001b[36;1m\u001b[1;3m1923\u001b[0m\u001b[32;1m\u001b[1;3mI now know the final answer\n",
      "Final Answer: 239 / 1923 * 100\u001b[0m\n",
      "\n",
      "\u001b[1m> Finished chain.\u001b[0m\n"
     ]
    }
   ],
   "source": [
    "result = agent(prompt)"
   ]
  },
  {
   "cell_type": "code",
   "execution_count": 48,
   "id": "bc99142a-c235-4218-a44d-9f84b97842ef",
   "metadata": {},
   "outputs": [
    {
     "data": {
      "text/plain": [
       "'239 / 1923 * 100'"
      ]
     },
     "execution_count": 48,
     "metadata": {},
     "output_type": "execute_result"
    }
   ],
   "source": [
    "result[\"output\"]"
   ]
  },
  {
   "cell_type": "code",
   "execution_count": 51,
   "id": "6e5c77e5-a554-404c-be6b-066e4774e9f6",
   "metadata": {},
   "outputs": [
    {
     "data": {
      "text/plain": [
       "12.428497139885595"
      ]
     },
     "execution_count": 51,
     "metadata": {},
     "output_type": "execute_result"
    }
   ],
   "source": [
    "239 / 1923 * 100"
   ]
  },
  {
   "cell_type": "code",
   "execution_count": 52,
   "id": "de2e5600-8039-43cb-a9e3-000e65a76a5c",
   "metadata": {},
   "outputs": [
    {
     "data": {
      "text/html": [
       "<div>\n",
       "<style scoped>\n",
       "    .dataframe tbody tr th:only-of-type {\n",
       "        vertical-align: middle;\n",
       "    }\n",
       "\n",
       "    .dataframe tbody tr th {\n",
       "        vertical-align: top;\n",
       "    }\n",
       "\n",
       "    .dataframe thead th {\n",
       "        text-align: right;\n",
       "    }\n",
       "</style>\n",
       "<table border=\"1\" class=\"dataframe\">\n",
       "  <thead>\n",
       "    <tr style=\"text-align: right;\">\n",
       "      <th>sex</th>\n",
       "      <th>F</th>\n",
       "      <th>M</th>\n",
       "    </tr>\n",
       "    <tr>\n",
       "      <th>TenYearCHD</th>\n",
       "      <th></th>\n",
       "      <th></th>\n",
       "    </tr>\n",
       "  </thead>\n",
       "  <tbody>\n",
       "    <tr>\n",
       "      <th>0</th>\n",
       "      <td>87.571503</td>\n",
       "      <td>81.458759</td>\n",
       "    </tr>\n",
       "    <tr>\n",
       "      <th>1</th>\n",
       "      <td>12.428497</td>\n",
       "      <td>18.541241</td>\n",
       "    </tr>\n",
       "  </tbody>\n",
       "</table>\n",
       "</div>"
      ],
      "text/plain": [
       "sex                 F          M\n",
       "TenYearCHD                      \n",
       "0           87.571503  81.458759\n",
       "1           12.428497  18.541241"
      ]
     },
     "execution_count": 52,
     "metadata": {},
     "output_type": "execute_result"
    }
   ],
   "source": [
    "pd.crosstab(df.TenYearCHD, df.sex, normalize=\"columns\")*100"
   ]
  },
  {
   "cell_type": "markdown",
   "id": "1c3c8d64-a967-4b8f-8b13-427801f85c3e",
   "metadata": {},
   "source": [
    "## Univariate Analysis\n",
    "1. Bar Plot"
   ]
  },
  {
   "cell_type": "code",
   "execution_count": 53,
   "id": "136c2c6b-dc34-4d29-98f2-4a9b21424935",
   "metadata": {},
   "outputs": [],
   "source": [
    "prompt = '''Draw a bar plot to depict number of persons suffering from chd?\n",
    "'''"
   ]
  },
  {
   "cell_type": "code",
   "execution_count": 55,
   "id": "cf684b90-abb3-4be6-9064-2ec0a0ae4c5d",
   "metadata": {},
   "outputs": [
    {
     "name": "stdout",
     "output_type": "stream",
     "text": [
      "\n",
      "\n",
      "\u001b[1m> Entering new AgentExecutor chain...\u001b[0m\n",
      "\u001b[32;1m\u001b[1;3mThought: I should use the function `plot` with the proper arguments\n",
      "Action: python_repl_ast\n",
      "Action Input: df['TenYearCHD'].value_counts().plot(kind='bar')\u001b[0m\u001b[36;1m\u001b[1;3mAxes(0.125,0.11;0.775x0.77)\u001b[0m\u001b[32;1m\u001b[1;3mFinal Answer: [Axes(0.125,0.11;0.775x0.77)]\u001b[0m\n",
      "\n",
      "\u001b[1m> Finished chain.\u001b[0m\n"
     ]
    },
    {
     "data": {
      "image/png": "[encoded data removed]",
      "text/plain": [
       "<Figure size 640x480 with 1 Axes>"
      ]
     },
     "metadata": {},
     "output_type": "display_data"
    }
   ],
   "source": [
    "result = agent(prompt)"
   ]
  },
  {
   "cell_type": "code",
   "execution_count": 56,
   "id": "67adb5de-ddaa-4238-8d1d-06c06939b51c",
   "metadata": {},
   "outputs": [],
   "source": [
    "prompt = '''Draw a bar plot graph to depict number of persons having smoking history of chd stacked by chd'''"
   ]
  },
  {
   "cell_type": "code",
   "execution_count": 58,
   "id": "c11fa40c-4d60-46b4-ae6d-078d01335a75",
   "metadata": {},
   "outputs": [
    {
     "name": "stdout",
     "output_type": "stream",
     "text": [
      "\n",
      "\n",
      "\u001b[1m> Entering new AgentExecutor chain...\u001b[0m\n"
     ]
    },
    {
     "name": "stderr",
     "output_type": "stream",
     "text": [
      "Retrying langchain_google_genai.llms._completion_with_retry.<locals>._completion_with_retry in 4.0 seconds as it raised InternalServerError: 500 An internal error has occurred. Please retry or report in https://developers.generativeai.google/guide/troubleshooting.\n"
     ]
    },
    {
     "name": "stdout",
     "output_type": "stream",
     "text": [
      "\u001b[32;1m\u001b[1;3mThought: I should use `matplotlib.pyplot` to do this.\n",
      "Action: python_repl_ast\n",
      "Action Input: import matplotlib.pyplot as plt\u001b[0m\u001b[36;1m\u001b[1;3m\u001b[0m"
     ]
    },
    {
     "name": "stderr",
     "output_type": "stream",
     "text": [
      "Retrying langchain_google_genai.llms._completion_with_retry.<locals>._completion_with_retry in 4.0 seconds as it raised InternalServerError: 500 An internal error has occurred. Please retry or report in https://developers.generativeai.google/guide/troubleshooting.\n",
      "Retrying langchain_google_genai.llms._completion_with_retry.<locals>._completion_with_retry in 4.0 seconds as it raised InternalServerError: 500 An internal error has occurred. Please retry or report in https://developers.generativeai.google/guide/troubleshooting.\n"
     ]
    },
    {
     "name": "stdout",
     "output_type": "stream",
     "text": [
      "\u001b[32;1m\u001b[1;3mAction: python_repl_ast\n",
      "Action Input: df['is_smoking'].value_counts().plot(kind='bar', stacked=True, figsize=(10,6))\u001b[0m\u001b[36;1m\u001b[1;3mAxes(0.125,0.11;0.775x0.77)\u001b[0m\u001b[32;1m\u001b[1;3mFinal Answer: See plot.\u001b[0m\n",
      "\n",
      "\u001b[1m> Finished chain.\u001b[0m\n"
     ]
    },
    {
     "data": {
      "image/png": "[encoded data removed]",
      "text/plain": [
       "<Figure size 1000x600 with 1 Axes>"
      ]
     },
     "metadata": {},
     "output_type": "display_data"
    }
   ],
   "source": [
    "result = agent(prompt)"
   ]
  },
  {
   "cell_type": "code",
   "execution_count": 59,
   "id": "a0d986a7-f9fd-4970-9939-f0a873682b9a",
   "metadata": {},
   "outputs": [],
   "source": [
    "prompt = \"plot a histogram graph of age columsn\""
   ]
  },
  {
   "cell_type": "code",
   "execution_count": 60,
   "id": "73161ef1-99d4-44e8-980a-9127f0426e66",
   "metadata": {},
   "outputs": [
    {
     "name": "stdout",
     "output_type": "stream",
     "text": [
      "\n",
      "\n",
      "\u001b[1m> Entering new AgentExecutor chain...\u001b[0m\n",
      "\u001b[32;1m\u001b[1;3mThought: I can use the 'hist' function to create a histogram plot of the 'age' column\n",
      "Action: python_repl_ast\n",
      "Action Input: df['age'].hist()\u001b[0m\u001b[36;1m\u001b[1;3mAxes(0.125,0.11;0.775x0.77)\u001b[0m\u001b[32;1m\u001b[1;3mThought: I can use the 'hist' function to create a histogram plot of the 'age' column\n",
      "Action: python_repl_ast\n",
      "Action Input: df['age'].hist()\u001b[0m\u001b[36;1m\u001b[1;3mAxes(0.125,0.11;0.775x0.77)\u001b[0m"
     ]
    },
    {
     "name": "stderr",
     "output_type": "stream",
     "text": [
      "Retrying langchain_google_genai.llms._completion_with_retry.<locals>._completion_with_retry in 4.0 seconds as it raised InternalServerError: 500 An internal error has occurred. Please retry or report in https://developers.generativeai.google/guide/troubleshooting.\n"
     ]
    },
    {
     "name": "stdout",
     "output_type": "stream",
     "text": [
      "\u001b[32;1m\u001b[1;3mI now know the final answer\n",
      "Final Answer: None\u001b[0m\n",
      "\n",
      "\u001b[1m> Finished chain.\u001b[0m\n"
     ]
    },
    {
     "data": {
      "image/png": "[encoded data removed]",
      "text/plain": [
       "<Figure size 640x480 with 1 Axes>"
      ]
     },
     "metadata": {},
     "output_type": "display_data"
    }
   ],
   "source": [
    "result = agent(prompt)"
   ]
  },
  {
   "cell_type": "code",
   "execution_count": 61,
   "id": "b4b29420-a1e4-4eac-9fc5-53a45f1416cf",
   "metadata": {},
   "outputs": [],
   "source": [
    "prompt = \"are there any outliers in age columns?\""
   ]
  },
  {
   "cell_type": "code",
   "execution_count": 62,
   "id": "8fd0c9a8-2847-4836-8be9-9336719a0ab2",
   "metadata": {},
   "outputs": [
    {
     "name": "stdout",
     "output_type": "stream",
     "text": [
      "\n",
      "\n",
      "\u001b[1m> Entering new AgentExecutor chain...\u001b[0m\n",
      "\u001b[32;1m\u001b[1;3mThought: I should use describe() method to get the mean and stddev of age column\n",
      "Action: python_repl_ast\n",
      "Action Input: df.age.describe()\u001b[0m\u001b[36;1m\u001b[1;3mcount    3390.000000\n",
      "mean       49.542183\n",
      "std         8.592878\n",
      "min        32.000000\n",
      "25%        42.000000\n",
      "50%        49.000000\n",
      "75%        56.000000\n",
      "max        70.000000\n",
      "Name: age, dtype: float64\u001b[0m\u001b[32;1m\u001b[1;3mObservation: I now know the final answer\n",
      "Final Answer: no, there are no outliers\u001b[0m\n",
      "\n",
      "\u001b[1m> Finished chain.\u001b[0m\n"
     ]
    }
   ],
   "source": [
    "result = agent(prompt)"
   ]
  },
  {
   "cell_type": "code",
   "execution_count": 63,
   "id": "c7c92f58-2001-449c-a74b-a13d3a42ac02",
   "metadata": {},
   "outputs": [],
   "source": [
    "prompt = \"are there any outliers in terms of age of those suffering from chd.\\n find out using box.\""
   ]
  },
  {
   "cell_type": "code",
   "execution_count": 69,
   "id": "f0f3a5dc-5c8c-4687-995a-23004b2e94a7",
   "metadata": {},
   "outputs": [],
   "source": [
    "prompt = \"\"\"compare the probability distribution of tabacco consumption between those who suffer from chd and not \n",
    "suffer from chd using kde plot\n",
    "\"\"\""
   ]
  },
  {
   "cell_type": "markdown",
   "id": "45ae4bf5-6986-47ff-bd97-9ce143604fcd",
   "metadata": {},
   "source": [
    "## Hypothesis test"
   ]
  },
  {
   "cell_type": "code",
   "execution_count": 72,
   "id": "02ef4978-d929-4038-b399-32ff6e3d06cc",
   "metadata": {},
   "outputs": [],
   "source": [
    "prompt = \"\"\"do t-test for the following hypothesis\n",
    "Null hypothesis: Tabacco consumption o those who suffer from chd is same as those who don't suffer from chd\n",
    "Alternate Hyphothesis: Tabacco consumption of those who suffer from chd is not same as those who don't suffer from chd\"\"\""
   ]
  },
  {
   "cell_type": "code",
   "execution_count": 75,
   "id": "735c89b8-e3e5-47c2-8bf9-79844324e5fc",
   "metadata": {},
   "outputs": [
    {
     "name": "stdout",
     "output_type": "stream",
     "text": [
      "\n",
      "\n",
      "\u001b[1m> Entering new AgentExecutor chain...\u001b[0m\n",
      "\u001b[32;1m\u001b[1;3mThought: I should plot the probability distribution of the ages of those who suffer from chd and those who do not.\n",
      "Action: python_repl_ast\n",
      "Action Input: df.query('TenYearCHD == 1').age.plot.kde()\u001b[0m\u001b[36;1m\u001b[1;3mAxes(0.125,0.11;0.775x0.77)\u001b[0m\u001b[32;1m\u001b[1;3mI should plot the probability distribution of the ages of those who do not suffer from chd.\n",
      "Action: python_repl_ast\n",
      "Action Input: df.query('TenYearCHD == 0').age.plot.kde()\u001b[0m\u001b[36;1m\u001b[1;3mAxes(0.125,0.11;0.775x0.77)\u001b[0m\u001b[32;1m\u001b[1;3mI should add a legend to the plot.\n",
      "Action: python_repl_ast\n",
      "Action Input: plt.legend(['TenYearCHD == 1', 'TenYearCHD == 0'])\u001b[0m\u001b[36;1m\u001b[1;3mLegend\u001b[0m\u001b[32;1m\u001b[1;3mI need to add axis labels to complete the plot.\n",
      "Action: python_repl_ast\n",
      "Action Input: plt.xlabel('Age')\u001b[0m\u001b[36;1m\u001b[1;3mText(0.5, 0, 'Age')\u001b[0m\u001b[32;1m\u001b[1;3mAction: python_repl_ast\n",
      "Action Input: plt.ylabel('Density')\u001b[0m\u001b[36;1m\u001b[1;3mText(0, 0.5, 'Density')\u001b[0m\u001b[32;1m\u001b[1;3mI now know the final answer\n",
      "Final Answer: None\u001b[0m\n",
      "\n",
      "\u001b[1m> Finished chain.\u001b[0m\n"
     ]
    },
    {
     "data": {
      "image/png": "[encoded data removed]",
      "text/plain": [
       "<Figure size 640x480 with 1 Axes>"
      ]
     },
     "metadata": {},
     "output_type": "display_data"
    }
   ],
   "source": [
    "prompt = \"\"\"Compare the probability distribution of age between \n",
    "those who suffer from chd and not suffer from chd using kde plot. \n",
    "Create a lenged, x and y labels for the plot.\"\"\"\n",
    "result = agent(prompt)"
   ]
  },
  {
   "cell_type": "code",
   "execution_count": 79,
   "id": "763f6819-5728-4744-a1b1-0a2d2cfa80d7",
   "metadata": {},
   "outputs": [
    {
     "data": {
      "text/plain": [
       "Index(['id', 'age', 'education', 'sex', 'is_smoking', 'cigsPerDay', 'BPMeds',\n",
       "       'prevalentStroke', 'prevalentHyp', 'diabetes', 'totChol', 'sysBP',\n",
       "       'diaBP', 'BMI', 'heartRate', 'glucose', 'TenYearCHD'],\n",
       "      dtype='object')"
      ]
     },
     "execution_count": 79,
     "metadata": {},
     "output_type": "execute_result"
    }
   ],
   "source": [
    "df.columns"
   ]
  },
  {
   "cell_type": "code",
   "execution_count": null,
   "id": "03b4cc23-bfeb-48fa-89bd-2e7da30729bd",
   "metadata": {},
   "outputs": [],
   "source": []
  }
 ],
 "metadata": {
  "kernelspec": {
   "display_name": "Python 3 (ipykernel)",
   "language": "python",
   "name": "python3"
  },
  "language_info": {
   "codemirror_mode": {
    "name": "ipython",
    "version": 3
   },
   "file_extension": ".py",
   "mimetype": "text/x-python",
   "name": "python",
   "nbconvert_exporter": "python",
   "pygments_lexer": "ipython3",
   "version": "3.11.0"
  }
 },
 "nbformat": 4,
 "nbformat_minor": 5
}
